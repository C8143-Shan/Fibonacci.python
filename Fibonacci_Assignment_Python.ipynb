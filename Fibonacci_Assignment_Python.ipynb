{
  "nbformat": 4,
  "nbformat_minor": 0,
  "metadata": {
    "colab": {
      "name": "Fibonacci Assignment Python.ipynb",
      "provenance": [],
      "authorship_tag": "ABX9TyNVw+fYYpbFD0h2sD+99Rwz",
      "include_colab_link": true
    },
    "kernelspec": {
      "name": "python3",
      "display_name": "Python 3"
    },
    "language_info": {
      "name": "python"
    }
  },
  "cells": [
    {
      "cell_type": "markdown",
      "metadata": {
        "id": "view-in-github",
        "colab_type": "text"
      },
      "source": [
        "<a href=\"https://colab.research.google.com/github/C8143-Shan/Fibonacci.python/blob/main/Fibonacci_Assignment_Python.ipynb\" target=\"_parent\"><img src=\"https://colab.research.google.com/assets/colab-badge.svg\" alt=\"Open In Colab\"/></a>"
      ]
    },
    {
      "cell_type": "code",
      "metadata": {
        "colab": {
          "base_uri": "https://localhost:8080/"
        },
        "id": "itwlSlxKYMtL",
        "outputId": "6cc40087-080b-4940-b4ab-d1fedc26503a"
      },
      "source": [
        "num1 = 1\n",
        "num2 = 2\n",
        "fibo = [num1, num2]\n",
        "while num2 < 55 :\n",
        "  num1, num2 = num2, num1 + num2\n",
        "  fibo.append(num2)\n",
        "print(\"Fibonacci 1 to 55 ==>\", fibo)\n"
      ],
      "execution_count": 146,
      "outputs": [
        {
          "output_type": "stream",
          "text": [
            "Fibonacci 1 to 55 ==> [1, 2, 3, 5, 8, 13, 21, 34, 55]\n"
          ],
          "name": "stdout"
        }
      ]
    },
    {
      "cell_type": "code",
      "metadata": {
        "colab": {
          "base_uri": "https://localhost:8080/"
        },
        "id": "rf9jMhqjaXUp",
        "outputId": "81390081-acae-4674-a4b8-c8f822f3bac6"
      },
      "source": [
        "def  fibonacci(number) :\n",
        "  \n",
        "  number1 = 1\n",
        "  number2 = 2\n",
        "  print(number1)\n",
        "  print(number2)\n",
        "  for i in range(number - 2) :\n",
        "    \n",
        "    number3 = number1 + number2\n",
        "    print(number3)\n",
        "    number1 = number2\n",
        "    number2 = number3\n",
        "number = int(input(\"Enter a number :\"))  ##\"Enter 9 for 1 to 55\"\n",
        "fibonacci(number)"
      ],
      "execution_count": 153,
      "outputs": [
        {
          "output_type": "stream",
          "text": [
            "Enter a number :9\n",
            "1\n",
            "2\n",
            "3\n",
            "5\n",
            "8\n",
            "13\n",
            "21\n",
            "34\n",
            "55\n"
          ],
          "name": "stdout"
        }
      ]
    },
    {
      "cell_type": "code",
      "metadata": {
        "id": "Ykt-IT-JcEWD"
      },
      "source": [
        ""
      ],
      "execution_count": null,
      "outputs": []
    }
  ]
}